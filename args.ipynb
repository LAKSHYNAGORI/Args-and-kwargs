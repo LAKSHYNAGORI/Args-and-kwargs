{
  "nbformat": 4,
  "nbformat_minor": 0,
  "metadata": {
    "colab": {
      "provenance": []
    },
    "kernelspec": {
      "name": "python3",
      "display_name": "Python 3"
    },
    "language_info": {
      "name": "python"
    }
  },
  "cells": [
    {
      "cell_type": "code",
      "execution_count": 1,
      "metadata": {
        "colab": {
          "base_uri": "https://localhost:8080/"
        },
        "id": "FoYaEtACY8YK",
        "outputId": "275e425d-bced-4005-9400-aa798904aadb"
      },
      "outputs": [
        {
          "output_type": "stream",
          "name": "stdout",
          "text": [
            "29700\n"
          ]
        }
      ],
      "source": [
        "def multiply(*a):\n",
        "  # dictionary\n",
        "  product=1\n",
        "  for numbers in a:\n",
        "    product = product*numbers\n",
        "  return product\n",
        "print(multiply(1,3,5,4,5,9,11))\n",
        "# args in someting defind for list\n"
      ]
    }
  ]
}