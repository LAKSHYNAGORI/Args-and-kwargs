{
  "nbformat": 4,
  "nbformat_minor": 0,
  "metadata": {
    "colab": {
      "provenance": []
    },
    "kernelspec": {
      "name": "python3",
      "display_name": "Python 3"
    },
    "language_info": {
      "name": "python"
    }
  },
  "cells": [
    {
      "cell_type": "code",
      "source": [
        "def p2b(**a):\n",
        "  sum=0\n",
        "  for key,value in a.items():\n",
        "      sum=+value\n",
        "  print(sum)\n",
        "  \n",
        "p2b(dhoni=54,kohli=69,jadeja=45)\n",
        "\n"
      ],
      "metadata": {
        "colab": {
          "base_uri": "https://localhost:8080/"
        },
        "id": "NaSBf60gdRx_",
        "outputId": "6e1cbacd-700b-42a0-e4b2-ff79307d313c"
      },
      "execution_count": 50,
      "outputs": [
        {
          "output_type": "stream",
          "name": "stdout",
          "text": [
            "45\n"
          ]
        }
      ]
    }
  ]
}